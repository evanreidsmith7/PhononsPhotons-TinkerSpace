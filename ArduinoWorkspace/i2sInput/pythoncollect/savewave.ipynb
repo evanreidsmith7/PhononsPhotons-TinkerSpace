{
 "cells": [
  {
   "cell_type": "code",
   "execution_count": 27,
   "metadata": {},
   "outputs": [],
   "source": [
    "import serial\n",
    "import datetime\n",
    "import wave\n",
    "import struct\n",
    "\n",
    "\n",
    "# ask the user for the length of the audio in seconds\n",
    "length = int(input(\"Enter the length of the recording in seconds: \"))\n",
    "\n",
    "# get the current date and time\n",
    "now = datetime.datetime.now()\n",
    "\n",
    "# create a filename with a datetimestamp\n",
    "filename = \"recordings/recording_{}.wav\".format(now.strftime(\"%Y-%m-%d_%H-%M-%S\"))\n",
    "\n",
    "# set the WAV file parameters\n",
    "channels = 1\n",
    "sample_rate = 16000\n",
    "sample_width = 4 # 4 bytes per sample : uint32_t\n",
    "\n",
    "# Specify the COM port and baud rate\n",
    "comPort = \"COM13\"\n",
    "baudRate = 115200\n",
    "\n",
    "# Create a new SerialPort object\n",
    "serialPort = serial.Serial(comPort, baudRate)"
   ]
  },
  {
   "cell_type": "code",
   "execution_count": 28,
   "metadata": {},
   "outputs": [],
   "source": [
    "# open a file for writing the audio data\n",
    "with wave.open(filename, 'w') as wf:\n",
    "   wf.setnchannels(channels)\n",
    "   wf.setsampwidth(sample_width)\n",
    "   wf.setframerate(sample_rate)\n",
    "   #wf.setcomptype('NONE', 'not compressed')\n",
    "   \n",
    "   try:\n",
    "      for i in range(length * sample_rate):\n",
    "         data = serialPort.readline()\n",
    "         value = data.rstrip()\n",
    "         wf.writeframes(value)\n",
    "         #print(str(i) + \":\")\n",
    "         #print(value)\n",
    "         \n",
    "      serialPort.close()\n",
    "      print(\"Recording saved as {}\".format(filename))\n",
    "   except serial.SerialException as e:\n",
    "      print(f\"Error: {e}\")\n",
    "   except KeyboardInterrupt:\n",
    "      print(\"Serial reading terminated by the user.\")\n",
    "   finally:\n",
    "      serialPort.close()"
   ]
  },
  {
   "cell_type": "markdown",
   "metadata": {},
   "source": [
    "b'16373\\r\\n'\n",
    "b'16317\\r\\n'\n",
    "b'16324\\r\\n'\n",
    "b'16322\\r\\n'\n",
    "b'16315\\r\\n'\n",
    "b'16328\\r\\n'\n",
    "b'16281\\r\\n'"
   ]
  },
  {
   "cell_type": "code",
   "execution_count": null,
   "metadata": {},
   "outputs": [
    {
     "data": {
      "text/plain": [
       "'\\ntry:\\n    while True:\\n        data = serialPort.readline().decode(\\'utf-8\\').strip()\\n        print(data)\\nexcept serial.SerialException as e:\\n    print(f\"Error: {e}\")\\nexcept KeyboardInterrupt:\\n    print(\"Serial reading terminated by the user.\")\\nfinally:\\n    serialPort.close()\\n\\n'"
      ]
     },
     "execution_count": 25,
     "metadata": {},
     "output_type": "execute_result"
    }
   ],
   "source": [
    "'''\n",
    "try:\n",
    "    while True:\n",
    "        data = serialPort.readline().decode('utf-8').strip()\n",
    "        print(data)\n",
    "except serial.SerialException as e:\n",
    "    print(f\"Error: {e}\")\n",
    "except KeyboardInterrupt:\n",
    "    print(\"Serial reading terminated by the user.\")\n",
    "finally:\n",
    "    serialPort.close()\n",
    "\n",
    "'''"
   ]
  },
  {
   "cell_type": "code",
   "execution_count": null,
   "metadata": {},
   "outputs": [
    {
     "data": {
      "text/plain": [
       "'\\nfor i in range(length*sample_rate):\\n   data = ser.read(4)\\n   print(data)\\n\\n\\n\\n# get the current date and time\\nnow = datetime.datetime.now()\\n\\n# create a filename with a datetimestamp\\nfilename = \"recording_{}.wav\".format(now.strftime(\"%Y-%m-%d_%H-%M-%S\"))\\n\\n\\nsample_width = 2 # 2 bytes per sample\\n\\n# open a file for writing the audio data\\nwith wave.open(filename, \\'wb\\') as f:\\n    # set the WAV file parameters\\n    f.setnchannels(channels)\\n    f.setsampwidth(sample_width)\\n    f.setframerate(sample_rate)\\n\\n    # read audio data from the serial port and write it to the file\\n    for i in range(length*sample_rate):\\n        data = ser.read(2)\\n        if data:\\n            f.writeframes(data)\\n\\n# close the serial connection\\nser.close()\\n\\nprint(\"Recording saved as {}\".format(filename))\\n'"
      ]
     },
     "execution_count": 26,
     "metadata": {},
     "output_type": "execute_result"
    }
   ],
   "source": [
    "\n",
    "\n",
    "\n",
    "\n",
    "'''\n",
    "for i in range(length*sample_rate):\n",
    "   data = ser.read(4)\n",
    "   print(data)\n",
    "\n",
    "\n",
    "\n",
    "# get the current date and time\n",
    "now = datetime.datetime.now()\n",
    "\n",
    "# create a filename with a datetimestamp\n",
    "filename = \"recording_{}.wav\".format(now.strftime(\"%Y-%m-%d_%H-%M-%S\"))\n",
    "\n",
    "\n",
    "sample_width = 2 # 2 bytes per sample\n",
    "\n",
    "# open a file for writing the audio data\n",
    "with wave.open(filename, 'wb') as f:\n",
    "    # set the WAV file parameters\n",
    "    f.setnchannels(channels)\n",
    "    f.setsampwidth(sample_width)\n",
    "    f.setframerate(sample_rate)\n",
    "\n",
    "    # read audio data from the serial port and write it to the file\n",
    "    for i in range(length*sample_rate):\n",
    "        data = ser.read(2)\n",
    "        if data:\n",
    "            f.writeframes(data)\n",
    "\n",
    "# close the serial connection\n",
    "ser.close()\n",
    "\n",
    "print(\"Recording saved as {}\".format(filename))\n",
    "'''"
   ]
  }
 ],
 "metadata": {
  "kernelspec": {
   "display_name": "Python 3",
   "language": "python",
   "name": "python3"
  },
  "language_info": {
   "codemirror_mode": {
    "name": "ipython",
    "version": 3
   },
   "file_extension": ".py",
   "mimetype": "text/x-python",
   "name": "python",
   "nbconvert_exporter": "python",
   "pygments_lexer": "ipython3",
   "version": "3.12.2"
  }
 },
 "nbformat": 4,
 "nbformat_minor": 2
}
