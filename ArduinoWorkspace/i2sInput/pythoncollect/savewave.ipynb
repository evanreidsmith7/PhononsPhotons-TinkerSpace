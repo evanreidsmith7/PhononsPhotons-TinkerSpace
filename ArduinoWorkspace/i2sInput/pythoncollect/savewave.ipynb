{
 "cells": [
  {
   "cell_type": "code",
   "execution_count": 1,
   "metadata": {},
   "outputs": [
    {
     "ename": "AttributeError",
     "evalue": "module 'serial' has no attribute 'Serial'",
     "output_type": "error",
     "traceback": [
      "\u001b[1;31m---------------------------------------------------------------------------\u001b[0m",
      "\u001b[1;31mAttributeError\u001b[0m                            Traceback (most recent call last)",
      "Cell \u001b[1;32mIn[1], line 19\u001b[0m\n\u001b[0;32m     16\u001b[0m baudRate \u001b[38;5;241m=\u001b[39m \u001b[38;5;241m115200\u001b[39m\n\u001b[0;32m     18\u001b[0m \u001b[38;5;66;03m# Create a new SerialPort object\u001b[39;00m\n\u001b[1;32m---> 19\u001b[0m serialPort \u001b[38;5;241m=\u001b[39m \u001b[43mserial\u001b[49m\u001b[38;5;241;43m.\u001b[39;49m\u001b[43mSerial\u001b[49m(comPort, baudRate)\n\u001b[0;32m     24\u001b[0m \u001b[38;5;28;01mtry\u001b[39;00m:\n\u001b[0;32m     25\u001b[0m     \u001b[38;5;28;01mwhile\u001b[39;00m \u001b[38;5;28;01mTrue\u001b[39;00m:\n",
      "\u001b[1;31mAttributeError\u001b[0m: module 'serial' has no attribute 'Serial'"
     ]
    }
   ],
   "source": [
    "import serial\n",
    "import datetime\n",
    "import wave\n",
    "\n",
    "\n",
    "# ask the user for the length of the audio in seconds\n",
    "length = int(input(\"Enter the length of the recording in seconds: \"))\n",
    "\n",
    "\n",
    "# set the WAV file parameters\n",
    "channels = 1\n",
    "sample_rate = 16000\n",
    "\n",
    "# Specify the COM port and baud rate\n",
    "comPort = \"COM13\"\n",
    "baudRate = 115200\n",
    "\n",
    "# Create a new SerialPort object\n",
    "serialPort = serial.Serial(comPort, baudRate)\n",
    "\n",
    "\n",
    "\n",
    "\n",
    "try:\n",
    "    while True:\n",
    "        data = serialPort.readline().decode('utf-8').strip()\n",
    "        print(data)\n",
    "except serial.SerialException as e:\n",
    "    print(f\"Error: {e}\")\n",
    "except KeyboardInterrupt:\n",
    "    print(\"Serial reading terminated by the user.\")\n",
    "finally:\n",
    "    serialPort.close()\n",
    "\n",
    "\n",
    "\n"
   ]
  },
  {
   "cell_type": "code",
   "execution_count": null,
   "metadata": {},
   "outputs": [],
   "source": [
    "\n",
    "\n",
    "\n",
    "\n",
    "'''\n",
    "for i in range(length*sample_rate):\n",
    "   data = ser.read(4)\n",
    "   print(data)\n",
    "\n",
    "\n",
    "\n",
    "# get the current date and time\n",
    "now = datetime.datetime.now()\n",
    "\n",
    "# create a filename with a datetimestamp\n",
    "filename = \"recording_{}.wav\".format(now.strftime(\"%Y-%m-%d_%H-%M-%S\"))\n",
    "\n",
    "\n",
    "sample_width = 2 # 2 bytes per sample\n",
    "\n",
    "# open a file for writing the audio data\n",
    "with wave.open(filename, 'wb') as f:\n",
    "    # set the WAV file parameters\n",
    "    f.setnchannels(channels)\n",
    "    f.setsampwidth(sample_width)\n",
    "    f.setframerate(sample_rate)\n",
    "\n",
    "    # read audio data from the serial port and write it to the file\n",
    "    for i in range(length*sample_rate):\n",
    "        data = ser.read(2)\n",
    "        if data:\n",
    "            f.writeframes(data)\n",
    "\n",
    "# close the serial connection\n",
    "ser.close()\n",
    "\n",
    "print(\"Recording saved as {}\".format(filename))\n",
    "'''"
   ]
  }
 ],
 "metadata": {
  "kernelspec": {
   "display_name": "Python 3",
   "language": "python",
   "name": "python3"
  },
  "language_info": {
   "codemirror_mode": {
    "name": "ipython",
    "version": 3
   },
   "file_extension": ".py",
   "mimetype": "text/x-python",
   "name": "python",
   "nbconvert_exporter": "python",
   "pygments_lexer": "ipython3",
   "version": "3.12.2"
  }
 },
 "nbformat": 4,
 "nbformat_minor": 2
}
