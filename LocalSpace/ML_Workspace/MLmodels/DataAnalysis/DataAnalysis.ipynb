{
 "cells": [
  {
   "cell_type": "code",
   "execution_count": 1,
   "metadata": {},
   "outputs": [],
   "source": [
    "# import requirements\n",
    "from sklearn import datasets\n",
    "import numpy as np\n",
    "from sklearn.model_selection import train_test_split\n",
    "from sklearn.preprocessing import StandardScaler\n",
    "from sklearn.metrics import accuracy_score\n",
    "from sklearn.svm import SVC\n",
    "import matplotlib.pyplot as plt\n",
    "from matplotlib.colors import ListedColormap\n",
    "from sklearn.decomposition import PCA\n",
    "import os\n",
    "import pandas as pd\n",
    "from sklearn.neighbors import KNeighborsClassifier\n",
    "import seaborn as sns\n",
    "from sklearn.cluster import KMeans"
   ]
  },
  {
   "cell_type": "code",
   "execution_count": 2,
   "metadata": {},
   "outputs": [
    {
     "ename": "FileNotFoundError",
     "evalue": "[WinError 3] The system cannot find the path specified: 'Datasets/Sample Data/Region1'",
     "output_type": "error",
     "traceback": [
      "\u001b[1;31m---------------------------------------------------------------------------\u001b[0m",
      "\u001b[1;31mFileNotFoundError\u001b[0m                         Traceback (most recent call last)",
      "\u001b[1;32mc:\\Users\\jonim\\OneDrive - Texas State University\\General - EE4331-ML-Localization-Project\\Workspace\\MLmodels\\DataAnalysis\\DataAnalysis.ipynb Cell 2\u001b[0m line \u001b[0;36m2\n\u001b[0;32m     <a href='vscode-notebook-cell:/c%3A/Users/jonim/OneDrive%20-%20Texas%20State%20University/General%20-%20EE4331-ML-Localization-Project/Workspace/MLmodels/DataAnalysis/DataAnalysis.ipynb#W2sZmlsZQ%3D%3D?line=17'>18</a>\u001b[0m region5_path \u001b[39m=\u001b[39m \u001b[39mr\u001b[39m\u001b[39m\"\u001b[39m\u001b[39mDatasets/Sample Data/Region5\u001b[39m\u001b[39m\"\u001b[39m\n\u001b[0;32m     <a href='vscode-notebook-cell:/c%3A/Users/jonim/OneDrive%20-%20Texas%20State%20University/General%20-%20EE4331-ML-Localization-Project/Workspace/MLmodels/DataAnalysis/DataAnalysis.ipynb#W2sZmlsZQ%3D%3D?line=19'>20</a>\u001b[0m \u001b[39m# Load the data from each region and assign labels\u001b[39;00m\n\u001b[1;32m---> <a href='vscode-notebook-cell:/c%3A/Users/jonim/OneDrive%20-%20Texas%20State%20University/General%20-%20EE4331-ML-Localization-Project/Workspace/MLmodels/DataAnalysis/DataAnalysis.ipynb#W2sZmlsZQ%3D%3D?line=20'>21</a>\u001b[0m X1, y1 \u001b[39m=\u001b[39m load_data_with_labels(region1_path, \u001b[39m1\u001b[39;49m)\n\u001b[0;32m     <a href='vscode-notebook-cell:/c%3A/Users/jonim/OneDrive%20-%20Texas%20State%20University/General%20-%20EE4331-ML-Localization-Project/Workspace/MLmodels/DataAnalysis/DataAnalysis.ipynb#W2sZmlsZQ%3D%3D?line=21'>22</a>\u001b[0m X2, y2 \u001b[39m=\u001b[39m load_data_with_labels(region2_path, \u001b[39m2\u001b[39m)\n\u001b[0;32m     <a href='vscode-notebook-cell:/c%3A/Users/jonim/OneDrive%20-%20Texas%20State%20University/General%20-%20EE4331-ML-Localization-Project/Workspace/MLmodels/DataAnalysis/DataAnalysis.ipynb#W2sZmlsZQ%3D%3D?line=22'>23</a>\u001b[0m X3, y3 \u001b[39m=\u001b[39m load_data_with_labels(region3_path, \u001b[39m3\u001b[39m)\n",
      "\u001b[1;32mc:\\Users\\jonim\\OneDrive - Texas State University\\General - EE4331-ML-Localization-Project\\Workspace\\MLmodels\\DataAnalysis\\DataAnalysis.ipynb Cell 2\u001b[0m line \u001b[0;36m4\n\u001b[0;32m      <a href='vscode-notebook-cell:/c%3A/Users/jonim/OneDrive%20-%20Texas%20State%20University/General%20-%20EE4331-ML-Localization-Project/Workspace/MLmodels/DataAnalysis/DataAnalysis.ipynb#W2sZmlsZQ%3D%3D?line=1'>2</a>\u001b[0m \u001b[39mdef\u001b[39;00m \u001b[39mload_data_with_labels\u001b[39m(path, label):\n\u001b[0;32m      <a href='vscode-notebook-cell:/c%3A/Users/jonim/OneDrive%20-%20Texas%20State%20University/General%20-%20EE4331-ML-Localization-Project/Workspace/MLmodels/DataAnalysis/DataAnalysis.ipynb#W2sZmlsZQ%3D%3D?line=2'>3</a>\u001b[0m     all_data \u001b[39m=\u001b[39m []\n\u001b[1;32m----> <a href='vscode-notebook-cell:/c%3A/Users/jonim/OneDrive%20-%20Texas%20State%20University/General%20-%20EE4331-ML-Localization-Project/Workspace/MLmodels/DataAnalysis/DataAnalysis.ipynb#W2sZmlsZQ%3D%3D?line=3'>4</a>\u001b[0m     \u001b[39mfor\u001b[39;00m file_name \u001b[39min\u001b[39;00m os\u001b[39m.\u001b[39;49mlistdir(path):\n\u001b[0;32m      <a href='vscode-notebook-cell:/c%3A/Users/jonim/OneDrive%20-%20Texas%20State%20University/General%20-%20EE4331-ML-Localization-Project/Workspace/MLmodels/DataAnalysis/DataAnalysis.ipynb#W2sZmlsZQ%3D%3D?line=4'>5</a>\u001b[0m         \u001b[39mif\u001b[39;00m file_name\u001b[39m.\u001b[39mendswith(\u001b[39m'\u001b[39m\u001b[39m.csv\u001b[39m\u001b[39m'\u001b[39m):\n\u001b[0;32m      <a href='vscode-notebook-cell:/c%3A/Users/jonim/OneDrive%20-%20Texas%20State%20University/General%20-%20EE4331-ML-Localization-Project/Workspace/MLmodels/DataAnalysis/DataAnalysis.ipynb#W2sZmlsZQ%3D%3D?line=5'>6</a>\u001b[0m             file_path \u001b[39m=\u001b[39m os\u001b[39m.\u001b[39mpath\u001b[39m.\u001b[39mjoin(path, file_name)\n",
      "\u001b[1;31mFileNotFoundError\u001b[0m: [WinError 3] The system cannot find the path specified: 'Datasets/Sample Data/Region1'"
     ]
    }
   ],
   "source": [
    "\n",
    "# Assuming X is your dataset loaded from previous steps\n",
    "def load_data_with_labels(path, label):\n",
    "    all_data = []\n",
    "    for file_name in os.listdir(path):\n",
    "        if file_name.endswith('.csv'):\n",
    "            file_path = os.path.join(path, file_name)\n",
    "            data = pd.read_csv(file_path)\n",
    "            all_data.append(data)\n",
    "    combined_data = pd.concat(all_data, ignore_index=True)\n",
    "    labels = np.full(combined_data.shape[0], label)\n",
    "    return combined_data.values, labels\n",
    "\n",
    "# Paths to your data\n",
    "region1_path = r\"Datasets/Sample Data/Region1\"\n",
    "region2_path = r\"Datasets/Sample Data/Region2\"\n",
    "region3_path = r\"Datasets/Sample Data/Region3\"\n",
    "region4_path = r\"Datasets/Sample Data/Region4\"\n",
    "region5_path = r\"Datasets/Sample Data/Region5\"\n",
    "\n",
    "# Load the data from each region and assign labels\n",
    "X1, y1 = load_data_with_labels(region1_path, 1)\n",
    "X2, y2 = load_data_with_labels(region2_path, 2)\n",
    "X3, y3 = load_data_with_labels(region3_path, 3)\n",
    "X4, y4 = load_data_with_labels(region4_path, 4)\n",
    "X5, y5 = load_data_with_labels(region5_path, 5)\n",
    "\n",
    "# Combine data from all regions\n",
    "X = np.concatenate((X1, X2, X3, X4, X5), axis=0)\n",
    "y = np.concatenate((y1, y2, y3, y4, y5), axis=0)"
   ]
  },
  {
   "cell_type": "code",
   "execution_count": null,
   "metadata": {},
   "outputs": [],
   "source": [
    "# Histogram for the first feature\n",
    "plt.figure(figsize=(6, 4))\n",
    "plt.hist(X[:, 0], bins=30)\n",
    "plt.title('Histogram of Feature 1')\n",
    "plt.xlabel('Feature 1')\n",
    "plt.ylabel('Frequency')\n",
    "plt.show()"
   ]
  },
  {
   "cell_type": "code",
   "execution_count": null,
   "metadata": {},
   "outputs": [],
   "source": [
    "# Scatter plot of the first two features\n",
    "plt.figure(figsize=(6, 4))\n",
    "plt.scatter(X[:, 0], X[:, 1], alpha=0.5)\n",
    "plt.title('Scatter Plot of First Two Features')\n",
    "plt.xlabel('Feature 1')\n",
    "plt.ylabel('Feature 2')\n",
    "plt.show()"
   ]
  },
  {
   "cell_type": "code",
   "execution_count": null,
   "metadata": {},
   "outputs": [],
   "source": [
    "# K-Means Clustering\n",
    "# Reducing the dimensionality for visualization\n",
    "pca = PCA(n_components=2)\n",
    "X_pca = pca.fit_transform(X)\n",
    "\n",
    "# Applying K-Means\n",
    "kmeans = KMeans(n_clusters=3, random_state=1)\n",
    "clusters = kmeans.fit_predict(X_pca)\n",
    "\n",
    "# Visualizing the clusters\n",
    "plt.figure(figsize=(6, 4))\n",
    "plt.scatter(X_pca[:, 0], X_pca[:, 1], c=clusters, cmap='viridis', alpha=0.5)\n",
    "plt.title('K-Means Clustering')\n",
    "plt.xlabel('PCA Component 1')\n",
    "plt.ylabel('PCA Component 2')\n",
    "plt.show()"
   ]
  },
  {
   "cell_type": "code",
   "execution_count": null,
   "metadata": {},
   "outputs": [],
   "source": [
    "# Pair plot for the first few features\n",
    "sns.pairplot(pd.DataFrame(X[:, :4]))\n",
    "plt.suptitle('Pair Plot of First Four Features', y=1.02)\n",
    "plt.show()"
   ]
  },
  {
   "cell_type": "code",
   "execution_count": null,
   "metadata": {},
   "outputs": [],
   "source": [
    "# Box plot for the first feature\n",
    "plt.figure(figsize=(6, 4))\n",
    "sns.boxplot(data=X[:, 0])\n",
    "plt.title('Box Plot of Feature 1')\n",
    "plt.show()"
   ]
  },
  {
   "cell_type": "code",
   "execution_count": null,
   "metadata": {},
   "outputs": [],
   "source": [
    "# Heatmap of the correlation matrix\n",
    "plt.figure(figsize=(6, 4))\n",
    "sns.heatmap(pd.DataFrame(X).corr(), annot=True, cmap='coolwarm')\n",
    "plt.title('Heatmap of Correlation Matrix')\n",
    "plt.show()"
   ]
  }
 ],
 "metadata": {
  "kernelspec": {
   "display_name": "Python 3",
   "language": "python",
   "name": "python3"
  },
  "language_info": {
   "codemirror_mode": {
    "name": "ipython",
    "version": 3
   },
   "file_extension": ".py",
   "mimetype": "text/x-python",
   "name": "python",
   "nbconvert_exporter": "python",
   "pygments_lexer": "ipython3",
   "version": "3.10.11"
  }
 },
 "nbformat": 4,
 "nbformat_minor": 2
}
